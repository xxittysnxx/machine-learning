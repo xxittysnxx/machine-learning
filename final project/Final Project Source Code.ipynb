{
  "cells": [
    {
      "cell_type": "markdown",
      "metadata": {
        "collapsed": false,
        "id": "mWTWQq7z7qXD"
      },
      "source": [
        "# Download Data"
      ]
    },
    {
      "cell_type": "code",
      "execution_count": 1,
      "metadata": {
        "colab": {
          "base_uri": "https://localhost:8080/"
        },
        "id": "psLUuOQJNYBQ",
        "outputId": "18173bc4-98e5-4da6-fe32-46a1bf4e5b5b"
      },
      "outputs": [
        {
          "name": "stderr",
          "output_type": "stream",
          "text": [
            "Downloading...\n",
            "From: https://drive.google.com/uc?export=download&id=1xPZuI0X3mFF0st6RpM-PuewbwcDKzsVm\n",
            "To: /content/NVDA.csv\n",
            "100%|██████████| 98.9k/98.9k [00:00<00:00, 50.0MB/s]\n"
          ]
        }
      ],
      "source": [
        "# Group members:\n",
        "# Yijie, Tang   2021226545 YXT140930 yxt140930@utdallas.edu\n",
        "# Shiyou, Yan   2021459331 SXY180032 sxy180032@utdallas.edu\n",
        "# Nguyen, Hoang 2021690004 HDN220000 hdn220000@utdallas.edu\n",
        "# Yu-Chen, Lin  2021719530 YXL220044 yxl220044@utdallas.edu\n",
        "# Kuei-Yu, Tsai 2021733495 KXT230002 kxt230002@utdallas.edu\n",
        "\n",
        "import pandas as pd\n",
        "import numpy as np\n",
        "from google.colab import drive\n",
        "import matplotlib.pyplot as plt\n",
        "import math\n",
        "from sklearn.preprocessing import StandardScaler\n",
        "import numpy as np\n",
        "from sympy import diff, symbols, exp\n",
        "import gdown\n",
        "import matplotlib.pyplot as plt\n",
        "\n",
        "# The original dataset was downloaded from Kaggel: https://www.kaggle.com/datasets/harshsingh2209/nvidia-stock-pricing-20172022\n",
        "# We added another column \"Next Close\", which is the next day's closing price\n",
        "download_url = 'https://drive.google.com/uc?export=download&id=1xPZuI0X3mFF0st6RpM-PuewbwcDKzsVm'\n",
        "data_file_path = 'NVDA.csv'\n",
        "gdown.download(download_url, data_file_path, quiet=False)\n",
        "stock_data = pd.read_csv(data_file_path, index_col=0)"
      ]
    },
    {
      "cell_type": "markdown",
      "metadata": {
        "id": "eCJMR26FCuPW"
      },
      "source": [
        "# Hyperparameters"
      ]
    },
    {
      "cell_type": "code",
      "execution_count": 2,
      "metadata": {
        "id": "mXZvtlXvCwLp"
      },
      "outputs": [],
      "source": [
        "epochs = 100\n",
        "learning_rate = 1e-4\n",
        "num_hidden_layers = 13\n",
        "\n",
        "network_config = [\n",
        "    {\"type\":\"input\", \"units\": 3},\n",
        "    {\"type\": \"rnn\", \"hidden\": num_hidden_layers, \"output\": 1}\n",
        "]"
      ]
    },
    {
      "cell_type": "markdown",
      "metadata": {
        "id": "5sdX0ntrqdl7"
      },
      "source": [
        "# Preprocess Data"
      ]
    },
    {
      "cell_type": "code",
      "execution_count": 3,
      "metadata": {
        "id": "6yIWNSeipfD5"
      },
      "outputs": [],
      "source": [
        "def calc_mean_squared_error(actual_vals, pred_vals):\n",
        "    return np.mean((actual_vals - pred_vals) ** 2)\n",
        "\n",
        "def mean_squared_error_gradient(actual_vals, predicted_vals):\n",
        "    return predicted_vals - actual_vals\n",
        "\n",
        "def calc_mean_squared_error_grad(actual_vals, pred_vals):\n",
        "    return pred_vals - actual_vals\n",
        "\n",
        "def normalize_data(data, features, target):\n",
        "    scaler = StandardScaler()\n",
        "    data[features] = scaler.fit_transform(data[features])\n",
        "    return data\n",
        "\n",
        "def divide_data(data, features, target, seed=0):\n",
        "    np.random.seed(seed)\n",
        "    splits = [int(.7 * len(data)), int(.85 * len(data))]\n",
        "    split_data = np.split(data, splits)\n",
        "    return [[d[features].to_numpy(), d[[target]].to_numpy()] for d in split_data]\n",
        "\n",
        "# Define features and target\n",
        "features = [\"Open\", \"Close\", \"Volume\"]\n",
        "target = \"Next Close\"\n",
        "\n",
        "# Normalize the dataset\n",
        "normalized_data = normalize_data(stock_data, features, target)\n",
        "\n",
        "# Divide data into training, validation, and testing sets\n",
        "divided_data = divide_data(normalized_data, features, target)\n",
        "(train_feats, train_target), (valid_feats, valid_target), (test_feats, test_target) = divided_data"
      ]
    },
    {
      "cell_type": "markdown",
      "metadata": {
        "id": "djeXzhH6Obgy"
      },
      "source": [
        "# Model"
      ]
    },
    {
      "cell_type": "code",
      "execution_count": 4,
      "metadata": {
        "id": "sUqNsHOE7qXE"
      },
      "outputs": [],
      "source": [
        "def initialize_parameters(layer_config):\n",
        "    layers = []\n",
        "    np.random.seed(0)\n",
        "\n",
        "    for i in range(1, len(layer_config)):\n",
        "        units_prev = layer_config[i - 1][\"units\"]\n",
        "        hidden_units = layer_config[i][\"hidden\"]\n",
        "        output_units = layer_config[i][\"output\"]\n",
        "\n",
        "        k = 1 / math.sqrt(hidden_units)\n",
        "\n",
        "        input_weights = np.random.rand(units_prev, hidden_units) * 2 * k - k\n",
        "        hidden_weights = np.random.rand(hidden_units, hidden_units) * 2 * k - k\n",
        "        hidden_bias = np.random.rand(1, hidden_units) * 2 * k - k\n",
        "        output_weights = np.random.rand(hidden_units, output_units) * 2 * k - k\n",
        "        output_bias = np.random.rand(1, output_units) * 2 * k - k\n",
        "\n",
        "        layers.append([input_weights, hidden_weights, hidden_bias, output_weights, output_bias])\n",
        "\n",
        "    return layers\n",
        "\n",
        "\n",
        "def forward_pass(x, layers):\n",
        "    hidden_outputs = []\n",
        "    final_outputs = []\n",
        "\n",
        "    for layer in layers:\n",
        "        input_weights, hidden_weights, hidden_bias, output_weights, output_bias = layer\n",
        "        hidden_layer = np.zeros((x.shape[0], input_weights.shape[1]))\n",
        "        output_layer = np.zeros((x.shape[0], output_weights.shape[1]))\n",
        "\n",
        "        for j in range(x.shape[0]):\n",
        "            input_x = np.dot(x[j][np.newaxis, :], input_weights)\n",
        "            hidden_x = input_x + np.dot(hidden_layer[max(j - 1, 0)][np.newaxis, :], hidden_weights) + hidden_bias\n",
        "            hidden_x = np.tanh(hidden_x)\n",
        "            hidden_layer[j, :] = hidden_x\n",
        "\n",
        "            output_x = np.dot(hidden_x, output_weights) + output_bias\n",
        "            output_layer[j, :] = output_x\n",
        "\n",
        "        hidden_outputs.append(hidden_layer)\n",
        "        final_outputs.append(output_layer)\n",
        "\n",
        "    return hidden_outputs, final_outputs[-1]\n",
        "\n",
        "\n",
        "def backward_pass(layers, x, learning_rate, gradients, hidden_outputs):\n",
        "    for i, layer in enumerate(layers):\n",
        "        input_weights, hidden_weights, hidden_bias, output_weights, output_bias = layer\n",
        "        hidden_output = hidden_outputs[i]\n",
        "        input_weights_gradient, hidden_weights_gradient, hidden_bias_gradient, output_weights_gradient, output_bias_gradient = 0, 0, 0, 0, 0\n",
        "        next_hidden_gradient = None\n",
        "\n",
        "        for j in reversed(range(x.shape[0])):\n",
        "            output_gradient = gradients[j][np.newaxis, :]\n",
        "\n",
        "            output_weights_gradient += np.dot(hidden_output[j][:, np.newaxis], output_gradient)\n",
        "            output_bias_gradient += output_gradient\n",
        "\n",
        "            hidden_gradient = np.dot(output_gradient, output_weights.T)\n",
        "\n",
        "            if j < x.shape[0] - 1:\n",
        "                next_hidden_gradient = np.dot(next_hidden_gradient, hidden_weights.T)\n",
        "                hidden_gradient += next_hidden_gradient\n",
        "\n",
        "            tanh_derivative = 1 - hidden_output[j][np.newaxis, :] ** 2\n",
        "            hidden_gradient *= tanh_derivative\n",
        "\n",
        "            next_hidden_gradient = hidden_gradient.copy()\n",
        "\n",
        "            if j > 0:\n",
        "                hidden_weights_gradient += np.dot(hidden_output[j - 1][:, np.newaxis], hidden_gradient)\n",
        "                hidden_bias_gradient += hidden_gradient\n",
        "\n",
        "            input_weights_gradient += np.dot(x[j][:, np.newaxis], hidden_gradient)\n",
        "\n",
        "        # Normalize learning rate by number of sequence elements\n",
        "        learning_rate /= x.shape[0]\n",
        "        # Update parameters\n",
        "        input_weights -= input_weights_gradient * learning_rate\n",
        "        hidden_weights -= hidden_weights_gradient * learning_rate\n",
        "        hidden_bias -= hidden_bias_gradient * learning_rate\n",
        "        output_weights -= output_weights_gradient * learning_rate\n",
        "        output_bias -= output_bias_gradient * learning_rate\n",
        "        # Update layers list\n",
        "        layers[i] = [input_weights, hidden_weights, hidden_bias, output_weights, output_bias]\n",
        "\n",
        "    return layers"
      ]
    },
    {
      "cell_type": "markdown",
      "metadata": {
        "collapsed": false,
        "id": "U1s-aPBA7qXG"
      },
      "source": [
        "# Training"
      ]
    },
    {
      "cell_type": "code",
      "execution_count": 5,
      "metadata": {
        "colab": {
          "base_uri": "https://localhost:8080/",
          "height": 472
        },
        "id": "TSjNJ79a7qXG",
        "outputId": "4af69651-3238-4fc6-e932-0c7e97277e98"
      },
      "outputs": [
        {
          "data": {
            "image/png": "[encoded data removed]",
            "text/plain": [
              "<Figure size 640x480 with 1 Axes>"
            ]
          },
          "metadata": {},
          "output_type": "display_data"
        }
      ],
      "source": [
        "def run_training_epoch(input_data, output_data, network_layers, learning_rate):\n",
        "    sequence_length = 7\n",
        "    epoch_loss = 0\n",
        "    for j in range(input_data.shape[0] - sequence_length):\n",
        "        sequence_x = input_data[j:(j+sequence_length),]\n",
        "        sequence_y = output_data[j:(j+sequence_length),]\n",
        "        hidden_states, outputs = forward_pass(sequence_x, network_layers)\n",
        "        gradients = mean_squared_error_gradient(sequence_y, outputs)\n",
        "        updated_layers = backward_pass(network_layers, sequence_x, learning_rate, gradients, hidden_states)\n",
        "        epoch_loss += calc_mean_squared_error(sequence_y, outputs)\n",
        "    return epoch_loss / len(input_data)\n",
        "\n",
        "def train_neural_network(training_input, training_output, validation_input, validation_output, network_layers, learning_rate, epochs):\n",
        "    train_losses = []\n",
        "    validation_losses = []\n",
        "\n",
        "    for epoch in range(epochs):\n",
        "        train_loss = run_training_epoch(training_input, training_output, network_layers, learning_rate)\n",
        "        train_losses.append(train_loss)\n",
        "        validation_loss = run_training_epoch(validation_input, validation_output, network_layers, learning_rate)\n",
        "        validation_losses.append(validation_loss)\n",
        "\n",
        "    return train_losses, validation_losses\n",
        "\n",
        "network_layers = initialize_parameters(network_config)\n",
        "\n",
        "train_losses, validation_losses = train_neural_network(train_feats, train_target, valid_feats, valid_target, network_layers, learning_rate, epochs)\n",
        "\n",
        "# Plotting\n",
        "plt.plot(range(1, epochs), train_losses[1:], label='Train Loss')\n",
        "plt.plot(range(1, epochs), validation_losses[1:], label='Validation Loss')\n",
        "plt.xlabel('Epochs')\n",
        "plt.ylabel('Loss')\n",
        "plt.title('Train and Validation Loss')\n",
        "plt.legend()\n",
        "plt.savefig(f\"loss_plot_lr_{learning_rate}_hidden_layers_{num_hidden_layers}_epochs_{epochs}.png\")\n",
        "plt.show()"
      ]
    },
    {
      "cell_type": "markdown",
      "metadata": {
        "id": "senWDW0qUrwt"
      },
      "source": [
        "# Evaluation"
      ]
    },
    {
      "cell_type": "code",
      "execution_count": 6,
      "metadata": {
        "colab": {
          "base_uri": "https://localhost:8080/"
        },
        "id": "6k0mMcmTT2Lh",
        "outputId": "8606521b-3112-4b37-d0fb-b5be5044137f"
      },
      "outputs": [
        {
          "name": "stdout",
          "output_type": "stream",
          "text": [
            "Predicted: 202.57, Actual: 222.42\n",
            "Predicted: 221.61, Actual: 223.41\n",
            "Predicted: 220.40, Actual: 222.42\n",
            "Predicted: 220.13, Actual: 219.00\n",
            "Predicted: 219.85, Actual: 211.13\n",
            "Predicted: 215.05, Actual: 212.46\n",
            "Predicted: 216.85, Actual: 219.41\n",
            "Predicted: 218.83, Actual: 224.82\n",
            "Predicted: 221.03, Actual: 220.81\n",
            "Predicted: 219.71, Actual: 216.60\n",
            "Predicted: 218.14, Actual: 206.99\n",
            "Predicted: 213.77, Actual: 205.17\n",
            "Predicted: 212.66, Actual: 207.16\n",
            "Predicted: 213.25, Actual: 207.42\n",
            "Predicted: 213.34, Actual: 197.32\n",
            "Predicted: 207.41, Actual: 204.51\n",
            "Predicted: 211.32, Actual: 207.00\n",
            "Predicted: 211.91, Actual: 210.75\n",
            "Predicted: 216.22, Actual: 208.31\n",
            "Predicted: 213.25, Actual: 206.95\n",
            "Predicted: 211.87, Actual: 206.71\n",
            "Predicted: 212.98, Actual: 209.39\n",
            "Predicted: 214.34, Actual: 217.46\n",
            "Predicted: 218.40, Actual: 218.62\n",
            "Predicted: 219.06, Actual: 222.22\n",
            "Predicted: 219.72, Actual: 222.90\n",
            "Predicted: 220.46, Actual: 221.03\n",
            "Predicted: 219.91, Actual: 226.92\n",
            "Predicted: 221.14, Actual: 227.26\n",
            "Predicted: 221.93, Actual: 231.66\n",
            "Predicted: 222.61, Actual: 247.17\n",
            "Predicted: 223.93, Actual: 244.51\n",
            "Predicted: 224.18, Actual: 249.41\n",
            "Predicted: 224.44, Actual: 255.67\n",
            "Predicted: 224.67, Actual: 258.27\n",
            "Predicted: 224.80, Actual: 264.01\n",
            "Predicted: 224.95, Actual: 265.98\n",
            "Predicted: 225.02, Actual: 298.01\n",
            "Predicted: 224.14, Actual: 297.52\n",
            "Predicted: 225.20, Actual: 308.04\n",
            "Predicted: 225.58, Actual: 306.57\n",
            "Predicted: 225.53, Actual: 294.59\n",
            "Predicted: 225.36, Actual: 303.90\n",
            "Predicted: 225.55, Actual: 303.90\n",
            "Predicted: 225.55, Actual: 300.25\n",
            "Predicted: 225.52, Actual: 302.03\n",
            "Predicted: 225.52, Actual: 292.61\n",
            "Predicted: 225.43, Actual: 316.75\n",
            "Predicted: 225.57, Actual: 329.85\n",
            "Predicted: 225.74, Actual: 319.56\n",
            "Predicted: 225.62, Actual: 317.46\n",
            "Predicted: 225.66, Actual: 326.74\n",
            "Predicted: 225.72, Actual: 315.03\n",
            "Predicted: 225.62, Actual: 333.76\n",
            "Predicted: 225.75, Actual: 326.76\n",
            "Predicted: 225.71, Actual: 314.35\n",
            "Predicted: 225.64, Actual: 321.26\n",
            "Predicted: 225.69, Actual: 306.93\n",
            "Predicted: 225.57, Actual: 300.37\n",
            "Predicted: 225.43, Actual: 324.27\n",
            "Predicted: 225.70, Actual: 318.26\n",
            "Predicted: 225.67, Actual: 304.90\n",
            "Predicted: 225.56, Actual: 301.98\n",
            "Predicted: 225.53, Actual: 281.61\n",
            "Predicted: 225.17, Actual: 283.37\n",
            "Predicted: 225.09, Actual: 304.59\n",
            "Predicted: 225.46, Actual: 283.87\n",
            "Predicted: 225.10, Actual: 278.01\n",
            "Predicted: 224.88, Actual: 277.19\n",
            "Predicted: 225.18, Actual: 290.75\n",
            "Predicted: 225.37, Actual: 294.00\n",
            "Predicted: 225.45, Actual: 296.40\n",
            "Predicted: 225.48, Actual: 309.45\n",
            "Predicted: 225.60, Actual: 303.22\n",
            "Predicted: 225.55, Actual: 300.01\n",
            "Predicted: 225.51, Actual: 295.86\n",
            "Predicted: 225.47, Actual: 294.11\n",
            "Predicted: 225.44, Actual: 301.21\n",
            "Predicted: 225.53, Actual: 292.90\n",
            "Predicted: 225.41, Actual: 276.04\n",
            "Predicted: 225.14, Actual: 281.78\n",
            "Predicted: 225.26, Actual: 272.47\n",
            "Predicted: 225.13, Actual: 274.00\n",
            "Predicted: 224.94, Actual: 278.17\n",
            "Predicted: 225.23, Actual: 279.99\n",
            "Predicted: 225.26, Actual: 265.75\n",
            "Predicted: 224.84, Actual: 269.42\n",
            "Predicted: 225.05, Actual: 259.03\n",
            "Predicted: 224.74, Actual: 250.67\n",
            "Predicted: 224.33, Actual: 241.50\n",
            "Predicted: 223.93, Actual: 233.74\n",
            "Predicted: 221.48, Actual: 233.72\n",
            "Predicted: 219.36, Actual: 223.24\n",
            "Predicted: 220.32, Actual: 227.72\n",
            "Predicted: 220.45, Actual: 219.44\n",
            "Predicted: 220.74, Actual: 228.40\n",
            "Predicted: 221.20, Actual: 244.86\n",
            "Predicted: 223.49, Actual: 246.38\n",
            "Predicted: 223.99, Actual: 252.42\n",
            "Predicted: 224.28, Actual: 239.48\n",
            "Predicted: 223.73, Actual: 243.19\n",
            "Predicted: 223.95, Actual: 247.28\n",
            "Predicted: 224.21, Actual: 251.08\n",
            "Predicted: 224.35, Actual: 267.05\n",
            "Predicted: 224.83, Actual: 258.24\n",
            "Predicted: 224.58, Actual: 239.49\n",
            "Predicted: 223.29, Actual: 242.67\n",
            "Predicted: 223.82, Actual: 264.95\n",
            "Predicted: 224.33, Actual: 265.11\n",
            "Predicted: 224.31, Actual: 245.07\n",
            "Predicted: 222.48, Actual: 236.42\n",
            "Predicted: 222.00, Actual: 233.90\n",
            "Predicted: 222.16, Actual: 223.87\n",
            "Predicted: 221.44, Actual: 237.48\n",
            "Predicted: 220.96, Actual: 241.57\n",
            "Predicted: 223.54, Actual: 243.85\n",
            "Predicted: 223.80, Actual: 234.77\n",
            "Predicted: 223.34, Actual: 242.20\n",
            "Predicted: 223.80, Actual: 237.14\n",
            "Predicted: 223.59, Actual: 229.36\n",
            "Predicted: 222.38, Actual: 213.52\n",
            "Predicted: 218.87, Actual: 215.14\n",
            "Predicted: 217.08, Actual: 230.14\n",
            "Predicted: 222.08, Actual: 226.58\n",
            "Predicted: 221.51, Actual: 221.00\n",
            "Predicted: 221.07, Actual: 213.30\n",
            "Predicted: 217.41, Actual: 229.73\n",
            "Predicted: 221.33, Actual: 244.96\n",
            "Predicted: 223.07, Actual: 247.66\n",
            "Predicted: 224.09, Actual: 264.53\n",
            "Predicted: 224.19, Actual: 267.34\n",
            "Predicted: 224.78, Actual: 265.24\n",
            "Predicted: 224.78, Actual: 256.34\n",
            "Predicted: 224.54, Actual: 281.50\n",
            "Predicted: 224.50, Actual: 276.92\n",
            "Predicted: 225.08, Actual: 282.19\n",
            "Predicted: 225.29, Actual: 286.56\n",
            "Predicted: 225.33, Actual: 276.90\n",
            "Predicted: 225.18, Actual: 272.86\n",
            "Predicted: 225.04, Actual: 267.12\n",
            "Predicted: 224.89, Actual: 273.60\n",
            "Predicted: 225.14, Actual: 259.31\n",
            "Predicted: 224.77, Actual: 244.07\n",
            "Predicted: 222.97, Actual: 242.08\n",
            "Predicted: 223.57, Actual: 231.19\n",
            "Predicted: 222.55, Actual: 219.17\n",
            "Predicted: 219.08, Actual: 215.04\n",
            "Predicted: 218.20, Actual: 222.03\n",
            "Predicted: 220.01, Actual: 212.58\n",
            "Predicted: 217.95, Actual: 217.83\n",
            "Predicted: 218.10, Actual: 221.98\n",
            "Predicted: 219.92, Actual: 214.82\n",
            "Predicted: 219.08, Actual: 201.83\n",
            "Predicted: 211.68, Actual: 195.15\n",
            "Predicted: 206.24, Actual: 199.02\n",
            "Predicted: 206.40, Actual: 187.88\n",
            "Predicted: 200.54, Actual: 184.15\n",
            "Predicted: 195.04, Actual: 197.82\n",
            "Predicted: 207.24, Actual: 185.47\n",
            "Predicted: 196.90, Actual: 195.33\n",
            "Predicted: 204.14, Actual: 196.02\n",
            "Predicted: 205.50, Actual: 203.34\n",
            "Predicted: 210.76, Actual: 188.44\n",
            "Predicted: 200.03, Actual: 186.75\n",
            "Predicted: 198.08, Actual: 169.50\n",
            "Predicted: 182.43, Actual: 175.95\n",
            "Predicted: 188.02, Actual: 166.30\n",
            "Predicted: 177.87, Actual: 161.75\n",
            "Predicted: 170.82, Actual: 177.06\n",
            "Predicted: 185.62, Actual: 172.64\n",
            "Predicted: 182.69, Actual: 181.77\n",
            "Predicted: 193.65, Actual: 169.38\n",
            "Predicted: 181.14, Actual: 171.24\n",
            "Predicted: 180.64, Actual: 166.94\n",
            "Predicted: 179.08, Actual: 168.98\n",
            "Predicted: 176.47, Actual: 161.54\n",
            "Predicted: 171.17, Actual: 169.75\n",
            "Predicted: 176.19, Actual: 178.51\n",
            "Predicted: 183.06, Actual: 188.11\n",
            "Predicted: 199.97, Actual: 186.72\n",
            "Predicted: 197.18, Actual: 183.20\n",
            "Predicted: 195.73, Actual: 195.92\n",
            "Predicted: 203.17, Actual: 187.20\n",
            "Predicted: 198.39, Actual: 187.86\n",
            "Predicted: 200.46, Actual: 189.26\n",
            "Predicted: 197.24, Actual: 186.48\n",
            "Predicted: 197.75, Actual: 180.48\n",
            "Predicted: 191.64, Actual: 169.74\n",
            "Predicted: 181.47, Actual: 169.74\n",
            "Mean Squared Error on Evaluation Data: 1857.61\n"
          ]
        }
      ],
      "source": [
        "# Prediction and Evaluation\n",
        "def predict_and_evaluate(data_input, data_output, network_layers):\n",
        "    hidden_states, predictions = forward_pass(data_input, network_layers)\n",
        "    mse_error = calc_mean_squared_error(data_output, predictions)\n",
        "    for i in range(len(data_input)):\n",
        "        print(f\"Predicted: {predictions[i][0]:.2f}, Actual: {data_output[i][0]:.2f}\")\n",
        "    print(f\"Mean Squared Error on Evaluation Data: {mse_error:.2f}\")\n",
        "\n",
        "    return mse_error\n",
        "\n",
        "mse_err = predict_and_evaluate(test_feats, test_target, network_layers)"
      ]
    },
    {
      "cell_type": "markdown",
      "metadata": {
        "id": "8IaC_kpWAsGE"
      },
      "source": [
        "# Record the Result"
      ]
    },
    {
      "cell_type": "code",
      "execution_count": 7,
      "metadata": {
        "id": "OJRi5D6nAvcZ"
      },
      "outputs": [],
      "source": [
        "# Open a text file to append the results\n",
        "with open(\"experiment_results.txt\", \"a\") as file:\n",
        "    # Write the results to the file\n",
        "    file.write(f\"Experiment with Learning Rate: {learning_rate}, Hidden Layers: {num_hidden_layers}\\n\")\n",
        "    file.write(f\"Train Loss: {train_losses[-1]}\\n\")\n",
        "    file.write(f\"Validation Loss: {validation_losses[-1]}, Validation RMSE: {mse_err:.2f}\\n\\n\")"
      ]
    }
  ],
  "metadata": {
    "colab": {
      "provenance": []
    },
    "kernelspec": {
      "display_name": "Python 3 (ipykernel)",
      "language": "python",
      "name": "python3"
    },
    "language_info": {
      "codemirror_mode": {
        "name": "ipython",
        "version": 3
      },
      "file_extension": ".py",
      "mimetype": "text/x-python",
      "name": "python",
      "nbconvert_exporter": "python",
      "pygments_lexer": "ipython3",
      "version": "3.11.0"
    }
  },
  "nbformat": 4,
  "nbformat_minor": 0
}
